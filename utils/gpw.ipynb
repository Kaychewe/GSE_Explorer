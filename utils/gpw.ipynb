{
 "cells": [
  {
   "cell_type": "markdown",
   "id": "82a642fe",
   "metadata": {},
   "source": [
    "### Notes \n",
    "GEOparse is a Python package that allows you to programmatically download, parse, and manipulate GEO datasets, such as:\n",
    "- SRP\n",
    "- GSE (Series)\n",
    "- GSM (Sample)\n",
    "- GPL (Platform)\n",
    "This is useful for bioinformatics workflows, reproducible research, or building pipelines.\n",
    "\n",
    "\n",
    "#### Example\n",
    "(SMALL TEST)\n",
    "Publication: Zheng et al., “Comprehensive Analyses of Partially Methylated Domains and Differentially Methylated Regions in Esophageal Cancer Reveal Both Cell-Type- and Cancer-Specific Epigenetic Regulation.”\n",
    "- Experiment is given by GEO:GSE210218 or GSE210220\n",
    "- Samples\n",
    "    1. GSM6423670\n",
    "    2. GSM6423671"
   ]
  },
  {
   "cell_type": "code",
   "execution_count": 2,
   "id": "ed9aa841",
   "metadata": {},
   "outputs": [
    {
     "name": "stderr",
     "output_type": "stream",
     "text": [
      "14-Jun-2025 18:17:21 DEBUG utils - Directory ../data already exists. Skipping.\n",
      "14-Jun-2025 18:17:21 INFO GEOparse - File already exist: using local version.\n",
      "14-Jun-2025 18:17:21 INFO GEOparse - Parsing ../data/GSE210218_family.soft.gz: \n",
      "14-Jun-2025 18:17:21 DEBUG GEOparse - DATABASE: GeoMiame\n",
      "14-Jun-2025 18:17:21 DEBUG GEOparse - SERIES: GSE210218\n",
      "14-Jun-2025 18:17:21 DEBUG GEOparse - PLATFORM: GPL16791\n",
      "14-Jun-2025 18:17:21 DEBUG GEOparse - SAMPLE: GSM6423670\n",
      "14-Jun-2025 18:17:21 DEBUG GEOparse - SAMPLE: GSM6423671\n"
     ]
    },
    {
     "name": "stdout",
     "output_type": "stream",
     "text": [
      "Downloading GEO series: GSE210218\n",
      "Saved metadata for GSM6423670\n",
      "Saved metadata for GSM6423671\n",
      "Error fetching SRR for SRX16751309: 'SRAweb' object has no attribute 'run_accessions'\n",
      "Error fetching SRR for SRX16751310: 'SRAweb' object has no attribute 'run_accessions'\n",
      "Exported metadata summary to ../data/gse_metadata_summary.csv\n",
      "       GSM_ID       SRX_ID                                           SRX_Link  \\\n",
      "0  GSM6423670  SRX16751309  https://www.ncbi.nlm.nih.gov/sra?term=SRX16751309   \n",
      "1  GSM6423671  SRX16751310  https://www.ncbi.nlm.nih.gov/sra?term=SRX16751310   \n",
      "\n",
      "  SRR_ID       title source                                               type  \n",
      "0         ESO26_WGBS  ESO26  cell line: ESO26; cell type: Esophageal adenoc...  \n",
      "1           TE5_WGBS    TE5  cell line: TE5; cell type: Esophageal squamous...  \n"
     ]
    }
   ],
   "source": [
    "from gpw import *\n",
    "\n",
    "\n",
    "gse = get_gse_data(\"GSE210218\")\n",
    "export_gsm_metadata_to_json(gse)\n",
    "df = export_metadata_table(gse)\n",
    "print(df.head())\n"
   ]
  },
  {
   "cell_type": "code",
   "execution_count": null,
   "id": "b629d034",
   "metadata": {},
   "outputs": [],
   "source": [
    "from pysradb.sraweb import SRAweb\n",
    "db = SRAweb()\n",
    "\n",
    "db.g\n",
    "db.sra_metadata"
   ]
  }
 ],
 "metadata": {
  "kernelspec": {
   "display_name": "gpw",
   "language": "python",
   "name": "python3"
  },
  "language_info": {
   "codemirror_mode": {
    "name": "ipython",
    "version": 3
   },
   "file_extension": ".py",
   "mimetype": "text/x-python",
   "name": "python",
   "nbconvert_exporter": "python",
   "pygments_lexer": "ipython3",
   "version": "3.12.2"
  }
 },
 "nbformat": 4,
 "nbformat_minor": 5
}
