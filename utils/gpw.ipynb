{
 "cells": [
  {
   "cell_type": "markdown",
   "id": "82a642fe",
   "metadata": {},
   "source": [
    "### Notes \n",
    "GEOparse is a Python package that allows you to programmatically download, parse, and manipulate GEO datasets, such as:\n",
    "- GSE (Series)\n",
    "- GSM (Sample)\n",
    "- GPL (Platform)\n",
    "This is useful for bioinformatics workflows, reproducible research, or building pipelines.\n",
    "\n",
    "\n",
    "#### Example\n",
    "\n",
    "Publication: Zheng et al., “Comprehensive Analyses of Partially Methylated Domains and Differentially Methylated Regions in Esophageal Cancer Reveal Both Cell-Type- and Cancer-Specific Epigenetic Regulation.”\n",
    "\n",
    "- Experiment is given by GEO:GSE210218 or GSE210220\n",
    "\n",
    "Samples\n",
    "1. GSM6423670\n",
    "2. GSM6423671"
   ]
  },
  {
   "cell_type": "code",
   "execution_count": 6,
   "id": "ed9aa841",
   "metadata": {},
   "outputs": [
    {
     "name": "stderr",
     "output_type": "stream",
     "text": [
      "14-Jun-2025 16:37:06 INFO GEOparse - Downloading ftp://ftp.ncbi.nlm.nih.gov/geo/series/GSE210nnn/GSE210218/soft/GSE210218_family.soft.gz to ../data/GSE210218_family.soft.gz\n",
      "100%|██████████| 2.93k/2.93k [00:00<00:00, 25.8kB/s]\n",
      "14-Jun-2025 16:37:06 DEBUG downloader - Size validation passed\n",
      "14-Jun-2025 16:37:06 DEBUG downloader - Moving /tmp/tmp9gzyycn8 to /home/kasonde/bioinformatics/GSE_Explorer/data/GSE210218_family.soft.gz\n",
      "14-Jun-2025 16:37:06 DEBUG downloader - Successfully downloaded ftp://ftp.ncbi.nlm.nih.gov/geo/series/GSE210nnn/GSE210218/soft/GSE210218_family.soft.gz\n",
      "14-Jun-2025 16:37:06 INFO GEOparse - Parsing ../data/GSE210218_family.soft.gz: \n",
      "14-Jun-2025 16:37:06 DEBUG GEOparse - DATABASE: GeoMiame\n",
      "14-Jun-2025 16:37:06 DEBUG GEOparse - SERIES: GSE210218\n",
      "14-Jun-2025 16:37:06 DEBUG GEOparse - PLATFORM: GPL16791\n",
      "14-Jun-2025 16:37:06 DEBUG GEOparse - SAMPLE: GSM6423670\n",
      "14-Jun-2025 16:37:06 DEBUG GEOparse - SAMPLE: GSM6423671\n"
     ]
    }
   ],
   "source": [
    "import GEOparse\n",
    "\n",
    "gse=GEOparse.get_GEO(geo=\"GSE210218\", destdir=\"../data\")\n",
    "\n"
   ]
  }
 ],
 "metadata": {
  "kernelspec": {
   "display_name": "gpw",
   "language": "python",
   "name": "python3"
  },
  "language_info": {
   "codemirror_mode": {
    "name": "ipython",
    "version": 3
   },
   "file_extension": ".py",
   "mimetype": "text/x-python",
   "name": "python",
   "nbconvert_exporter": "python",
   "pygments_lexer": "ipython3",
   "version": "3.12.2"
  }
 },
 "nbformat": 4,
 "nbformat_minor": 5
}
